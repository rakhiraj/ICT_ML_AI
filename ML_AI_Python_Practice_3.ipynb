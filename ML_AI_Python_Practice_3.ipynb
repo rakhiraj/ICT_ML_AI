{
 "cells": [
  {
   "cell_type": "markdown",
   "metadata": {},
   "source": [
    "1. Write a Python function to find the Max of three numbers"
   ]
  },
  {
   "cell_type": "code",
   "execution_count": 1,
   "metadata": {},
   "outputs": [
    {
     "name": "stdout",
     "output_type": "stream",
     "text": [
      "Enter 1st number: 8\n",
      "Enter 2nd number: 4\n",
      "Enter 3rd number: 15\n",
      "15 is the maximum among the three numbers.\n"
     ]
    }
   ],
   "source": [
    "def maximum(a,b,c):\n",
    "    return max(a,b,c)\n",
    "n1=int(input(\"Enter 1st number: \"))\n",
    "n2=int(input(\"Enter 2nd number: \"))\n",
    "n3=int(input(\"Enter 3rd number: \"))\n",
    "print(maximum(n1,n2,n3),\"is the maximum among the three numbers.\")"
   ]
  },
  {
   "cell_type": "markdown",
   "metadata": {},
   "source": [
    "2. Write a Python function to sum all the numbers in a list. \n",
    "* Sample List : [18, 12, 30,10, 7]\n",
    "* Expected Output : 77"
   ]
  },
  {
   "cell_type": "code",
   "execution_count": 2,
   "metadata": {},
   "outputs": [
    {
     "name": "stdout",
     "output_type": "stream",
     "text": [
      "sum is  77\n"
     ]
    }
   ],
   "source": [
    "list1= [18, 12, 30,10, 7]\n",
    "## to find sum of list\n",
    "s=0\n",
    "for i in list1:\n",
    "    s=s+i\n",
    "print('sum is ',s)"
   ]
  },
  {
   "cell_type": "markdown",
   "metadata": {},
   "source": [
    "3. Write a Python function that checks whether a passed string is palindrome or not."
   ]
  },
  {
   "cell_type": "code",
   "execution_count": 3,
   "metadata": {},
   "outputs": [
    {
     "name": "stdout",
     "output_type": "stream",
     "text": [
      "Enter a string:malayalam\n",
      "malayalam is a palindrome.\n"
     ]
    }
   ],
   "source": [
    "def isPalindrome(s):\n",
    "    return s == s[::-1]\n",
    "\n",
    "n=input(\"Enter a string:\")\n",
    "if isPalindrome(n):\n",
    "    print(n,\"is a palindrome.\")\n",
    "else:\n",
    "    print(n,\"is not a palindrome.\")"
   ]
  },
  {
   "cell_type": "markdown",
   "metadata": {},
   "source": [
    "4. Write a python function to find to find the power of a number using recursion"
   ]
  },
  {
   "cell_type": "code",
   "execution_count": 4,
   "metadata": {},
   "outputs": [
    {
     "name": "stdout",
     "output_type": "stream",
     "text": [
      "Enter a number: 4\n",
      "Enter the power: 6\n",
      "4096\n"
     ]
    }
   ],
   "source": [
    "def power(n,p):\n",
    "    if p == 0:\n",
    "        return 1\n",
    "    # Recurrence relation\n",
    "    return (n*power(n, p-1))\n",
    "\n",
    "a=int(input(\"Enter a number: \"))\n",
    "b=int(input(\"Enter the power: \"))\n",
    "print(power(a,b))"
   ]
  },
  {
   "cell_type": "markdown",
   "metadata": {},
   "source": [
    "5. Write a python function that returns a list of even numbers between two limits. The limits should be passed as arguments  and the list of even numbers from the function should return."
   ]
  },
  {
   "cell_type": "code",
   "execution_count": 5,
   "metadata": {},
   "outputs": [
    {
     "name": "stdout",
     "output_type": "stream",
     "text": [
      "enter the first number : 1\n",
      "enter the second number : 11\n",
      "[2, 4, 6, 8, 10]\n"
     ]
    }
   ],
   "source": [
    "n1=float(input('enter the first number : '))\n",
    "\n",
    "n2=float(input('enter the second number : '))\n",
    "\n",
    "def even_no(a,b):\n",
    "    list2=[]\n",
    "    for i in range(round(a), round(b+1)):\n",
    "        if not (i%2):\n",
    "            list2.append(i)\n",
    "#print(i)\n",
    "    return list2\n",
    "\n",
    "print(even_no(n1,n2))"
   ]
  },
  {
   "cell_type": "code",
   "execution_count": null,
   "metadata": {},
   "outputs": [],
   "source": []
  }
 ],
 "metadata": {
  "kernelspec": {
   "display_name": "Python 3",
   "language": "python",
   "name": "python3"
  },
  "language_info": {
   "codemirror_mode": {
    "name": "ipython",
    "version": 3
   },
   "file_extension": ".py",
   "mimetype": "text/x-python",
   "name": "python",
   "nbconvert_exporter": "python",
   "pygments_lexer": "ipython3",
   "version": "3.8.5"
  }
 },
 "nbformat": 4,
 "nbformat_minor": 4
}
